{
 "cells": [
  {
   "cell_type": "code",
   "execution_count": 1,
   "id": "4923d7cf-7378-4bda-8651-04b3593c66d0",
   "metadata": {},
   "outputs": [],
   "source": [
    "import requests "
   ]
  },
  {
   "cell_type": "code",
   "execution_count": 2,
   "id": "776f799e-e033-49b4-bdb7-49be1b2c4a3d",
   "metadata": {},
   "outputs": [
    {
     "name": "stdout",
     "output_type": "stream",
     "text": [
      "b'{\"detail\":\"Method Not Allowed\"}'\n"
     ]
    },
    {
     "data": {
      "text/plain": [
       "b'{\"prediction\":\"virginica\",\"probability\":0.87}'"
      ]
     },
     "execution_count": 2,
     "metadata": {},
     "output_type": "execute_result"
    }
   ],
   "source": [
    "new_measurement = {\n",
    "    'sepal_length': 5.7,\n",
    "    'sepal_width': 3.1,\n",
    "    'petal_length': 4.9,\n",
    "    'petal_width': 2.2\n",
    "}\n",
    "\n",
    "response = requests.post('http://127.0.0.1:8000/predict', json=new_measurement)\n",
    "print(response.content)\n",
    "\n",
    "b'{\"prediction\":\"virginica\",\"probability\":0.87}'"
   ]
  },
  {
   "cell_type": "code",
   "execution_count": null,
   "id": "0e6817fd-8641-4117-a90c-1d71f3c372ec",
   "metadata": {},
   "outputs": [],
   "source": []
  }
 ],
 "metadata": {
  "kernelspec": {
   "display_name": "Python 3 (ipykernel)",
   "language": "python",
   "name": "python3"
  },
  "language_info": {
   "codemirror_mode": {
    "name": "ipython",
    "version": 3
   },
   "file_extension": ".py",
   "mimetype": "text/x-python",
   "name": "python",
   "nbconvert_exporter": "python",
   "pygments_lexer": "ipython3",
   "version": "3.8.12"
  }
 },
 "nbformat": 4,
 "nbformat_minor": 5
}
